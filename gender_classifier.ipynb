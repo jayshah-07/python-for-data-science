{
 "cells": [
  {
   "cell_type": "code",
   "execution_count": 1,
   "metadata": {
    "collapsed": true
   },
   "outputs": [],
   "source": [
    "from sklearn import tree\n",
    "from sklearn.svm import SVC \n",
    "from sklearn.linear_model import Perceptron\n",
    "from sklearn.neighbors import KNeighborsClassifier\n",
    "\n",
    "from sklearn.metrics import accuracy_score\n",
    "from sklearn.ensemble import RandomForestClassifier, AdaBoostClassifier\n",
    "from sklearn.naive_bayes import GaussianNB\n",
    "from sklearn.discriminant_analysis import QuadraticDiscriminantAnalysis\n",
    "from sklearn.gaussian_process import GaussianProcessClassifier\n",
    "from sklearn.gaussian_process.kernels import RBF\n",
    "from sklearn.neural_network import MLPClassifier\n",
    "\n",
    "import numpy as np"
   ]
  },
  {
   "cell_type": "code",
   "execution_count": 2,
   "metadata": {
    "collapsed": true
   },
   "outputs": [],
   "source": [
    "# Data and labels\n",
    "# [height, weight, shoe_size]\n",
    "X = [[181, 80, 44], [177, 70, 43], [160, 60, 38], [154, 54, 37], [166, 65, 40],\n",
    "     [190, 90, 47], [175, 64, 39],\n",
    "     [177, 70, 40], [159, 55, 37], [171, 75, 42], [181, 85, 43]]\n",
    "\n",
    "Y = ['male', 'male', 'female', 'female', 'male', 'male', 'female', 'female',\n",
    "     'female', 'male', 'male']\n",
    "\n"
   ]
  },
  {
   "cell_type": "code",
   "execution_count": 3,
   "metadata": {
    "collapsed": true
   },
   "outputs": [],
   "source": [
    "# Classifiers\n",
    "# using the default values for all the hyperparameters\n",
    "clf_tree = tree.DecisionTreeClassifier() #Decision Tree\n",
    "#clf_svm = SVC() \n",
    "clf_svm = SVC(kernel=\"linear\") # Linear SVM \n",
    "clf_svm_RBF = SVC(gamma=2, C=1) # RBF SVM\n",
    "clf_perceptron = Perceptron()\n",
    "clf_KNN = KNeighborsClassifier() # Nearest Neighbors\n",
    "clf_GPC =  GaussianProcessClassifier() #Gaussian Process\n",
    "clf_RFC =  RandomForestClassifier() # Random Forest\n",
    "clf_NN = MLPClassifier(alpha=1) # Neural Net\n",
    "clf_ADA = AdaBoostClassifier() # AdaBoost\n",
    "clf_GNB = GaussianNB() # Naive Bayes\n",
    "clf_QDA = QuadraticDiscriminantAnalysis() # QDA\n"
   ]
  },
  {
   "cell_type": "code",
   "execution_count": 4,
   "metadata": {},
   "outputs": [
    {
     "data": {
      "text/plain": [
       "QuadraticDiscriminantAnalysis(priors=None, reg_param=0.0,\n",
       "               store_covariances=False, tol=0.0001)"
      ]
     },
     "execution_count": 4,
     "metadata": {},
     "output_type": "execute_result"
    }
   ],
   "source": [
    "# CHALLENGE - ...and train them on our data\n",
    "# Training the models\n",
    "clf_tree.fit(X, Y)\n",
    "clf_svm.fit(X, Y)\n",
    "clf_perceptron.fit(X, Y)\n",
    "clf_KNN.fit(X, Y)\n",
    "clf_svm_RBF.fit(X, Y)\n",
    "clf_GPC.fit(X, Y)\n",
    "clf_RFC.fit(X, Y)\n",
    "clf_NN.fit(X, Y)\n",
    "clf_ADA.fit(X, Y)\n",
    "clf_GNB.fit(X, Y)\n",
    "clf_QDA.fit(X, Y)\n",
    "\n",
    "#prediction = clf.predict([[190, 70, 43]])\n"
   ]
  },
  {
   "cell_type": "code",
   "execution_count": 5,
   "metadata": {},
   "outputs": [
    {
     "name": "stdout",
     "output_type": "stream",
     "text": [
      "Accuracy for DecisionTree: 100.0\n"
     ]
    }
   ],
   "source": [
    "# Testing using the same data\n",
    "pred_tree = clf_tree.predict(X)\n",
    "acc_tree = accuracy_score(Y, pred_tree) * 100\n",
    "print('Accuracy for DecisionTree: {}'.format(acc_tree))"
   ]
  },
  {
   "cell_type": "code",
   "execution_count": 6,
   "metadata": {},
   "outputs": [
    {
     "name": "stdout",
     "output_type": "stream",
     "text": [
      "Accuracy for SVM: 100.0\n"
     ]
    }
   ],
   "source": [
    "# Linear SVM \n",
    "pred_svm = clf_svm.predict(X)\n",
    "acc_svm = accuracy_score(Y, pred_svm) * 100\n",
    "print('Accuracy for SVM: {}'.format(acc_svm))"
   ]
  },
  {
   "cell_type": "code",
   "execution_count": 7,
   "metadata": {},
   "outputs": [
    {
     "name": "stdout",
     "output_type": "stream",
     "text": [
      "Accuracy for perceptron: 54.54545454545454\n"
     ]
    }
   ],
   "source": [
    "# perceptron\n",
    "pred_per = clf_perceptron.predict(X)\n",
    "acc_per = accuracy_score(Y, pred_per) * 100\n",
    "print('Accuracy for perceptron: {}'.format(acc_per))"
   ]
  },
  {
   "cell_type": "code",
   "execution_count": 8,
   "metadata": {},
   "outputs": [
    {
     "name": "stdout",
     "output_type": "stream",
     "text": [
      "Accuracy for KNN: 72.72727272727273\n"
     ]
    }
   ],
   "source": [
    "# Nearest Neighbors\n",
    "pred_KNN = clf_KNN.predict(X)\n",
    "acc_KNN = accuracy_score(Y, pred_KNN) * 100\n",
    "print('Accuracy for KNN: {}'.format(acc_KNN))"
   ]
  },
  {
   "cell_type": "code",
   "execution_count": 9,
   "metadata": {},
   "outputs": [
    {
     "name": "stdout",
     "output_type": "stream",
     "text": [
      "Accuracy for RBF SVM: 100.0\n"
     ]
    }
   ],
   "source": [
    "# RBF SVM\n",
    "pred_svm_RBF = clf_svm_RBF.predict(X)\n",
    "acc_svm_RBF = accuracy_score(Y, pred_svm_RBF) * 100\n",
    "print('Accuracy for RBF SVM: {}'.format(acc_svm_RBF))"
   ]
  },
  {
   "cell_type": "code",
   "execution_count": 10,
   "metadata": {},
   "outputs": [
    {
     "name": "stdout",
     "output_type": "stream",
     "text": [
      "Accuracy for GPC: 100.0\n"
     ]
    }
   ],
   "source": [
    "# Gaussian Process\n",
    "pred_GPC = clf_GPC.predict(X)\n",
    "acc_GPC = accuracy_score(Y, pred_GPC) * 100\n",
    "print('Accuracy for GPC: {}'.format(acc_GPC))"
   ]
  },
  {
   "cell_type": "code",
   "execution_count": 11,
   "metadata": {},
   "outputs": [
    {
     "name": "stdout",
     "output_type": "stream",
     "text": [
      "Accuracy for RFC: 100.0\n"
     ]
    }
   ],
   "source": [
    "# Random Forest\n",
    "pred_RFC = clf_RFC.predict(X)\n",
    "acc_RFC = accuracy_score(Y, pred_RFC) * 100\n",
    "print('Accuracy for RFC: {}'.format(acc_RFC))"
   ]
  },
  {
   "cell_type": "code",
   "execution_count": 12,
   "metadata": {},
   "outputs": [
    {
     "name": "stdout",
     "output_type": "stream",
     "text": [
      "Accuracy for NN: 54.54545454545454\n"
     ]
    }
   ],
   "source": [
    "# Neural Net\n",
    "pred_NN = clf_NN.predict(X)\n",
    "acc_NN = accuracy_score(Y, pred_NN) * 100\n",
    "print('Accuracy for NN: {}'.format(acc_NN))"
   ]
  },
  {
   "cell_type": "code",
   "execution_count": 13,
   "metadata": {},
   "outputs": [
    {
     "name": "stdout",
     "output_type": "stream",
     "text": [
      "Accuracy for ADA: 100.0\n"
     ]
    }
   ],
   "source": [
    "# AdaBoost\n",
    "pred_ADA = clf_ADA.predict(X)\n",
    "acc_ADA = accuracy_score(Y, pred_ADA) * 100\n",
    "print('Accuracy for ADA: {}'.format(acc_ADA))"
   ]
  },
  {
   "cell_type": "code",
   "execution_count": 14,
   "metadata": {},
   "outputs": [
    {
     "name": "stdout",
     "output_type": "stream",
     "text": [
      "Accuracy for GNB: 81.81818181818183\n"
     ]
    }
   ],
   "source": [
    "# Naive Bayes\n",
    "pred_GNB = clf_GNB.predict(X)\n",
    "acc_GNB = accuracy_score(Y, pred_GNB) * 100\n",
    "print('Accuracy for GNB: {}'.format(acc_GNB))"
   ]
  },
  {
   "cell_type": "code",
   "execution_count": 15,
   "metadata": {},
   "outputs": [
    {
     "name": "stdout",
     "output_type": "stream",
     "text": [
      "Accuracy for QDA: 100.0\n"
     ]
    }
   ],
   "source": [
    "# QDA\n",
    "pred_QDA = clf_QDA.predict(X)\n",
    "acc_QDA = accuracy_score(Y, pred_QDA) * 100\n",
    "print('Accuracy for QDA: {}'.format(acc_QDA))"
   ]
  },
  {
   "cell_type": "code",
   "execution_count": 16,
   "metadata": {},
   "outputs": [
    {
     "name": "stdout",
     "output_type": "stream",
     "text": [
      "Best gender classifier is SVM\n"
     ]
    }
   ],
   "source": [
    "# CHALLENGE compare their reusults and print the best one!\n",
    "#print(prediction)\n",
    "\n",
    "# The best classifier from svm, per, KNN\n",
    "index = np.argmax([acc_svm, acc_per, acc_KNN]) # only compared for 3 classifier\n",
    "classifiers = {0: 'SVM', 1: 'Perceptron', 2: 'KNN'}\n",
    "print('Best gender classifier is {}'.format(classifiers[index]))"
   ]
  },
  {
   "cell_type": "code",
   "execution_count": null,
   "metadata": {
    "collapsed": true
   },
   "outputs": [],
   "source": []
  }
 ],
 "metadata": {
  "kernelspec": {
   "display_name": "Python 3",
   "language": "python",
   "name": "python3"
  },
  "language_info": {
   "codemirror_mode": {
    "name": "ipython",
    "version": 3
   },
   "file_extension": ".py",
   "mimetype": "text/x-python",
   "name": "python",
   "nbconvert_exporter": "python",
   "pygments_lexer": "ipython3",
   "version": "3.6.2"
  }
 },
 "nbformat": 4,
 "nbformat_minor": 2
}
